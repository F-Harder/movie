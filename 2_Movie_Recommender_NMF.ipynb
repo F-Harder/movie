{
 "cells": [
  {
   "cell_type": "code",
   "execution_count": 1,
   "metadata": {},
   "outputs": [],
   "source": [
    "# Load files\n",
    "import pandas as pd\n",
    "df_rat = pd.read_csv('../data/ratings.csv')\n",
    "df_mov = pd.read_csv('../data/movies.csv')\n",
    "df_mov.drop_duplicates(subset=['title'], keep='first', inplace=True)\n",
    "df = pd.merge(df_rat, df_mov , on='movieId', how='inner')"
   ]
  },
  {
   "cell_type": "code",
   "execution_count": 2,
   "metadata": {},
   "outputs": [],
   "source": [
    "user = {'title' : [\"Toy Story (1995)\", \"Jurassic Park (1993)\" , \"The Butterfly Effect (2004)\", \n",
    "                \"Braveheart (1995)\", \"Inception (2010)\"],'rating' : [2,2,5,1,5]}"
   ]
  },
  {
   "cell_type": "code",
   "execution_count": 3,
   "metadata": {},
   "outputs": [
    {
     "data": {
      "text/html": [
       "<div>\n",
       "<style scoped>\n",
       "    .dataframe tbody tr th:only-of-type {\n",
       "        vertical-align: middle;\n",
       "    }\n",
       "\n",
       "    .dataframe tbody tr th {\n",
       "        vertical-align: top;\n",
       "    }\n",
       "\n",
       "    .dataframe thead th {\n",
       "        text-align: right;\n",
       "    }\n",
       "</style>\n",
       "<table border=\"1\" class=\"dataframe\">\n",
       "  <thead>\n",
       "    <tr style=\"text-align: right;\">\n",
       "      <th></th>\n",
       "      <th>title</th>\n",
       "      <th>rating</th>\n",
       "    </tr>\n",
       "  </thead>\n",
       "  <tbody>\n",
       "    <tr>\n",
       "      <th>0</th>\n",
       "      <td>Toy Story (1995)</td>\n",
       "      <td>2</td>\n",
       "    </tr>\n",
       "    <tr>\n",
       "      <th>1</th>\n",
       "      <td>Jurassic Park (1993)</td>\n",
       "      <td>2</td>\n",
       "    </tr>\n",
       "    <tr>\n",
       "      <th>2</th>\n",
       "      <td>The Butterfly Effect (2004)</td>\n",
       "      <td>5</td>\n",
       "    </tr>\n",
       "    <tr>\n",
       "      <th>3</th>\n",
       "      <td>Braveheart (1995)</td>\n",
       "      <td>1</td>\n",
       "    </tr>\n",
       "    <tr>\n",
       "      <th>4</th>\n",
       "      <td>Inception (2010)</td>\n",
       "      <td>5</td>\n",
       "    </tr>\n",
       "  </tbody>\n",
       "</table>\n",
       "</div>"
      ],
      "text/plain": [
       "                         title  rating\n",
       "0             Toy Story (1995)       2\n",
       "1         Jurassic Park (1993)       2\n",
       "2  The Butterfly Effect (2004)       5\n",
       "3            Braveheart (1995)       1\n",
       "4             Inception (2010)       5"
      ]
     },
     "execution_count": 3,
     "metadata": {},
     "output_type": "execute_result"
    }
   ],
   "source": [
    "user_input = pd.DataFrame(user)\n",
    "user_input"
   ]
  },
  {
   "cell_type": "code",
   "execution_count": 4,
   "metadata": {},
   "outputs": [
    {
     "data": {
      "text/plain": [
       "0       2.0\n",
       "1       0.0\n",
       "2       0.0\n",
       "3       0.0\n",
       "4       0.0\n",
       "       ... \n",
       "9714    0.0\n",
       "9715    0.0\n",
       "9716    0.0\n",
       "9717    0.0\n",
       "9718    0.0\n",
       "Name: rating, Length: 9719, dtype: float64"
      ]
     },
     "execution_count": 4,
     "metadata": {},
     "output_type": "execute_result"
    }
   ],
   "source": [
    "uniq_mov = pd.DataFrame(df_rat['movieId'].unique())\n",
    "df_uniq = pd.merge(uniq_mov, df_mov, left_on=0, right_on='movieId')\n",
    "user_ratings = pd.merge(df_uniq, user_input, how = 'outer')\n",
    "new_user = user_ratings['rating'].fillna(0)\n",
    "new_user"
   ]
  },
  {
   "cell_type": "code",
   "execution_count": 5,
   "metadata": {},
   "outputs": [],
   "source": [
    "# load pretrained NMF_model\n",
    "import pickle\n",
    "saved_model = open('nmf_model.bin', 'rb').read()\n",
    "model = pickle.loads(saved_model)"
   ]
  },
  {
   "cell_type": "code",
   "execution_count": 6,
   "metadata": {
    "scrolled": true
   },
   "outputs": [
    {
     "data": {
      "text/plain": [
       "array([[6.84785535e-02, 1.05975102e-02, 2.09585342e-02, ...,\n",
       "        8.19053403e-02, 8.57659072e-02, 9.61214695e-02],\n",
       "       [1.14275413e-02, 1.11969493e-01, 8.43206062e-02, ...,\n",
       "        2.79486271e-02, 3.70072970e-04, 4.62506381e-02],\n",
       "       [1.34921437e-02, 6.00985997e-02, 0.00000000e+00, ...,\n",
       "        7.59772696e-03, 4.97053459e-03, 4.44125266e-02],\n",
       "       ...,\n",
       "       [0.00000000e+00, 0.00000000e+00, 8.66672988e-01, ...,\n",
       "        1.98338363e-01, 2.65001619e-01, 4.65928346e-04],\n",
       "       [3.92990526e+00, 0.00000000e+00, 0.00000000e+00, ...,\n",
       "        1.94885037e-01, 3.16534843e-01, 2.06310434e-02],\n",
       "       [5.36011845e-01, 0.00000000e+00, 1.20623740e+00, ...,\n",
       "        2.13387602e-01, 1.21276037e-01, 0.00000000e+00]])"
      ]
     },
     "execution_count": 6,
     "metadata": {},
     "output_type": "execute_result"
    }
   ],
   "source": [
    "model.components_"
   ]
  },
  {
   "cell_type": "code",
   "execution_count": 7,
   "metadata": {
    "scrolled": true
   },
   "outputs": [
    {
     "data": {
      "text/plain": [
       "11.988878995363423"
      ]
     },
     "execution_count": 7,
     "metadata": {},
     "output_type": "execute_result"
    }
   ],
   "source": [
    "model.reconstruction_err_"
   ]
  },
  {
   "cell_type": "code",
   "execution_count": 8,
   "metadata": {},
   "outputs": [],
   "source": [
    "Q = model.components_"
   ]
  },
  {
   "cell_type": "code",
   "execution_count": 9,
   "metadata": {},
   "outputs": [],
   "source": [
    "import numpy as np\n",
    "R = np.array(new_user).reshape(1, -1)"
   ]
  },
  {
   "cell_type": "code",
   "execution_count": 10,
   "metadata": {},
   "outputs": [
    {
     "name": "stdout",
     "output_type": "stream",
     "text": [
      "Wall time: 15.3 s\n"
     ]
    }
   ],
   "source": [
    "%%time\n",
    "P = model.transform(R)"
   ]
  },
  {
   "cell_type": "code",
   "execution_count": 11,
   "metadata": {},
   "outputs": [],
   "source": [
    "import numpy as np\n",
    "Rhat = np.dot(P, Q)"
   ]
  },
  {
   "cell_type": "code",
   "execution_count": 12,
   "metadata": {},
   "outputs": [],
   "source": [
    "df_uniq['recom'] = Rhat.T"
   ]
  },
  {
   "cell_type": "code",
   "execution_count": 13,
   "metadata": {
    "scrolled": true
   },
   "outputs": [
    {
     "data": {
      "text/plain": [
       "0                         Toy Story (1995)\n",
       "244                       Inception (2010)\n",
       "378    There's Something About Mary (1998)\n",
       "337                       Notorious (1946)\n",
       "297          Flirting With Disaster (1996)\n",
       "436      O Brother, Where Art Thou? (2000)\n",
       "44                Wizard of Oz, The (1939)\n",
       "202                Longest Day, The (1962)\n",
       "203                 Green Mile, The (1999)\n",
       "157                 Howard the Duck (1986)\n",
       "Name: title, dtype: object"
      ]
     },
     "execution_count": 13,
     "metadata": {},
     "output_type": "execute_result"
    }
   ],
   "source": [
    "rec_movies = df_uniq.sort_values('recom', ascending=False)['title'].head(10)\n",
    "rec_movies"
   ]
  },
  {
   "cell_type": "code",
   "execution_count": 14,
   "metadata": {
    "scrolled": true
   },
   "outputs": [
    {
     "data": {
      "text/html": [
       "<div>\n",
       "<style scoped>\n",
       "    .dataframe tbody tr th:only-of-type {\n",
       "        vertical-align: middle;\n",
       "    }\n",
       "\n",
       "    .dataframe tbody tr th {\n",
       "        vertical-align: top;\n",
       "    }\n",
       "\n",
       "    .dataframe thead th {\n",
       "        text-align: right;\n",
       "    }\n",
       "</style>\n",
       "<table border=\"1\" class=\"dataframe\">\n",
       "  <thead>\n",
       "    <tr style=\"text-align: right;\">\n",
       "      <th></th>\n",
       "      <th>title</th>\n",
       "      <th>genres</th>\n",
       "    </tr>\n",
       "  </thead>\n",
       "  <tbody>\n",
       "    <tr>\n",
       "      <th>0</th>\n",
       "      <td>Toy Story (1995)</td>\n",
       "      <td>Adventure|Animation|Children|Comedy|Fantasy</td>\n",
       "    </tr>\n",
       "    <tr>\n",
       "      <th>1</th>\n",
       "      <td>Inception (2010)</td>\n",
       "      <td>Action|Crime|Drama|Mystery|Sci-Fi|Thriller|IMAX</td>\n",
       "    </tr>\n",
       "    <tr>\n",
       "      <th>2</th>\n",
       "      <td>There's Something About Mary (1998)</td>\n",
       "      <td>Comedy|Romance</td>\n",
       "    </tr>\n",
       "    <tr>\n",
       "      <th>3</th>\n",
       "      <td>Notorious (1946)</td>\n",
       "      <td>Film-Noir|Romance|Thriller</td>\n",
       "    </tr>\n",
       "    <tr>\n",
       "      <th>4</th>\n",
       "      <td>Flirting With Disaster (1996)</td>\n",
       "      <td>Comedy</td>\n",
       "    </tr>\n",
       "    <tr>\n",
       "      <th>5</th>\n",
       "      <td>O Brother, Where Art Thou? (2000)</td>\n",
       "      <td>Adventure|Comedy|Crime</td>\n",
       "    </tr>\n",
       "    <tr>\n",
       "      <th>6</th>\n",
       "      <td>Wizard of Oz, The (1939)</td>\n",
       "      <td>Adventure|Children|Fantasy|Musical</td>\n",
       "    </tr>\n",
       "    <tr>\n",
       "      <th>7</th>\n",
       "      <td>Longest Day, The (1962)</td>\n",
       "      <td>Action|Drama|War</td>\n",
       "    </tr>\n",
       "    <tr>\n",
       "      <th>8</th>\n",
       "      <td>Green Mile, The (1999)</td>\n",
       "      <td>Crime|Drama</td>\n",
       "    </tr>\n",
       "    <tr>\n",
       "      <th>9</th>\n",
       "      <td>Howard the Duck (1986)</td>\n",
       "      <td>Adventure|Comedy|Sci-Fi</td>\n",
       "    </tr>\n",
       "  </tbody>\n",
       "</table>\n",
       "</div>"
      ],
      "text/plain": [
       "                                 title  \\\n",
       "0                     Toy Story (1995)   \n",
       "1                     Inception (2010)   \n",
       "2  There's Something About Mary (1998)   \n",
       "3                     Notorious (1946)   \n",
       "4        Flirting With Disaster (1996)   \n",
       "5    O Brother, Where Art Thou? (2000)   \n",
       "6             Wizard of Oz, The (1939)   \n",
       "7              Longest Day, The (1962)   \n",
       "8               Green Mile, The (1999)   \n",
       "9               Howard the Duck (1986)   \n",
       "\n",
       "                                            genres  \n",
       "0      Adventure|Animation|Children|Comedy|Fantasy  \n",
       "1  Action|Crime|Drama|Mystery|Sci-Fi|Thriller|IMAX  \n",
       "2                                   Comedy|Romance  \n",
       "3                       Film-Noir|Romance|Thriller  \n",
       "4                                           Comedy  \n",
       "5                           Adventure|Comedy|Crime  \n",
       "6               Adventure|Children|Fantasy|Musical  \n",
       "7                                 Action|Drama|War  \n",
       "8                                      Crime|Drama  \n",
       "9                          Adventure|Comedy|Sci-Fi  "
      ]
     },
     "execution_count": 14,
     "metadata": {},
     "output_type": "execute_result"
    }
   ],
   "source": [
    "recommended_movies = pd.merge(rec_movies, df_mov, on='title', how = 'inner')\n",
    "#del recommended_movies['movieId']\n",
    "recommended_movies = recommended_movies[['title','genres']]\n",
    "recommended_movies"
   ]
  }
 ],
 "metadata": {
  "kernelspec": {
   "display_name": "Python 3",
   "language": "python",
   "name": "python3"
  },
  "language_info": {
   "codemirror_mode": {
    "name": "ipython",
    "version": 3
   },
   "file_extension": ".py",
   "mimetype": "text/x-python",
   "name": "python",
   "nbconvert_exporter": "python",
   "pygments_lexer": "ipython3",
   "version": "3.7.6"
  }
 },
 "nbformat": 4,
 "nbformat_minor": 4
}
