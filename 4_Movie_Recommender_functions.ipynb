{
 "cells": [
  {
   "cell_type": "code",
   "execution_count": 1,
   "metadata": {},
   "outputs": [],
   "source": [
    "# load necessary libraries\n",
    "import numpy as np\n",
    "from sklearn.decomposition import NMF\n",
    "from sklearn.metrics.pairwise import cosine_similarity\n",
    "import pandas as pd\n",
    "import pickle\n",
    "\n",
    "import warnings\n",
    "warnings.filterwarnings(\"ignore\")"
   ]
  },
  {
   "cell_type": "code",
   "execution_count": 2,
   "metadata": {},
   "outputs": [],
   "source": [
    "#load data\n",
    "df_mov = pd.read_csv('../data/movies.csv')\n",
    "df_rat = pd.read_csv('../data/ratings.csv')\n",
    "df_mov.drop_duplicates(subset=['title'], keep='first', inplace=True)\n",
    "df = pd.merge(df_rat, df_mov , on='movieId', how='inner')\n",
    "\n",
    "m_uniq = pd.DataFrame(df_rat['movieId'].unique())\n",
    "df_uniq = pd.merge(m_uniq, df_mov, left_on=0, right_on='movieId')"
   ]
  },
  {
   "cell_type": "raw",
   "metadata": {},
   "source": [
    "# load saved model\n",
    "def load_model(name):\n",
    "    with open(name + \".bin\", 'rb') as file:\n",
    "        model = pickle.load(file)\n",
    "    return model\n",
    "load_model('nmf_model')"
   ]
  },
  {
   "cell_type": "code",
   "execution_count": 3,
   "metadata": {},
   "outputs": [],
   "source": [
    "# Reference: Course note 10.2 NMF on Movie Data Challenge\n",
    "def get_recommender(result_html):\n",
    "    \n",
    "    column_names = ['title', 'rating']\n",
    "    user_input = pd.DataFrame(result_html, columns=column_names)\n",
    "    with open(\"nmf_model.bin\", 'rb') as file:\n",
    "        model = pickle.load(file)\n",
    "    \n",
    "    Q = model.components_\n",
    "\n",
    "    \n",
    "    user_ratings = pd.merge(df_uniq, user_input, how='outer')\n",
    "    new_user = user_ratings['rating'].fillna(1.0)\n",
    "    R = np.array(new_user).reshape(1, -1)\n",
    "    P = model.transform(R)\n",
    "    Rhat = np.dot(P, Q)\n",
    "    df_uniq['recom'] = Rhat.T\n",
    "\n",
    "    rec_movies = df_uniq.sort_values('recom', ascending=False)['title'].head(5)\n",
    "    recommended_movies = pd.merge(rec_movies, df_mov, on='title', how = 'inner')\n",
    "    recommended_movies = recommended_movies[['title','genres']]\n",
    "    return recommended_movies"
   ]
  },
  {
   "cell_type": "code",
   "execution_count": 4,
   "metadata": {},
   "outputs": [],
   "source": [
    "# Reference course note 10.4 User based collaborative filter & Item recommender challenge\n",
    "def similar_users_recommendation(result_html):\n",
    "\n",
    "    # add query of user by entering 'x' movie titles and their rating\n",
    "    column_names = ['title', 'rating']\n",
    "    user_input = pd.DataFrame(result_html, columns=column_names)\n",
    "\n",
    "    user_ratings = pd.merge(df_uniq, user_input, how='outer')\n",
    "    query = user_ratings['rating']\n",
    "    query = np.array(query)\n",
    "\n",
    "    # transform to matrix and add the user, i.e 'n_user' to the bottom, i.e index -1\n",
    "    R = df.pivot_table(values='rating', index='userId', columns='movieId')\n",
    "    R.loc['n_user'] = query\n",
    "    R.fillna(R.mean(), inplace=True)\n",
    "\n",
    "    # Create cosim matrix, pick an active user and find the top 20 most similar users\n",
    "    cosim = pd.DataFrame(cosine_similarity(R)[-1]) #pick userID n_user\n",
    "    sim_users = cosim.sort_values(by=[0], ascending=[False]).head(20)\n",
    "    sim_users = list(sim_users.index)[1:]\n",
    "\n",
    "    # calculate calculate the average rating based on the similar users\n",
    "    users_sim = R.loc[sim_users, :]\n",
    "    avg_rating = pd.DataFrame(users_sim.mean())\n",
    "\n",
    "    # Top 5 movies that active user has not seen based on the similar users recommendation\n",
    "    rec_movies = avg_rating.sort_values(by=[0], ascending=[False]).head(5)\n",
    "    rec_movies = pd.merge(rec_movies, df_mov, on='movieId', how='inner')\n",
    "    recommended_movies = rec_movies[['title','genres']]\n",
    "    return recommended_movies"
   ]
  }
 ],
 "metadata": {
  "kernelspec": {
   "display_name": "Python 3",
   "language": "python",
   "name": "python3"
  },
  "language_info": {
   "codemirror_mode": {
    "name": "ipython",
    "version": 3
   },
   "file_extension": ".py",
   "mimetype": "text/x-python",
   "name": "python",
   "nbconvert_exporter": "python",
   "pygments_lexer": "ipython3",
   "version": "3.7.6"
  }
 },
 "nbformat": 4,
 "nbformat_minor": 4
}
